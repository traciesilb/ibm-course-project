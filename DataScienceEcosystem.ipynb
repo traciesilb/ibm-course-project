{
 "cells": [
  {
   "cell_type": "markdown",
   "id": "e20458f6-ef70-46a2-a438-221ed90459ce",
   "metadata": {},
   "source": [
    "# Data Science Tools and Ecosystem"
   ]
  },
  {
   "cell_type": "markdown",
   "id": "17793355-b53a-45bd-94c0-1823d7bce48c",
   "metadata": {},
   "source": [
    "In this notebook, Data Science Tools and Ecosystem are summarized."
   ]
  },
  {
   "cell_type": "markdown",
   "id": "77d3caee-c998-4939-acce-fac96968bc94",
   "metadata": {},
   "source": [
    "**Objectives:**"
   ]
  },
  {
   "cell_type": "markdown",
   "id": "26499589-3592-4e24-8635-48b4ddabe981",
   "metadata": {},
   "source": [
    "* List popular languages for Data Science\n",
    "* List common libraries for Data Science\n",
    "* List helpful tools for Data Scientists\n",
    "* Demonstrate common functions in Data Science\n",
    "\n"
   ]
  },
  {
   "cell_type": "markdown",
   "id": "2d3a7b7b-e86f-4daa-b8f6-b37088bc99d3",
   "metadata": {
    "tags": []
   },
   "source": [
    "Some of the popular languages that Data Scientists use are:\n",
    "1. Python\n",
    "2. Java\n",
    "3. C++\n",
    "4. SQL\n",
    "5. Julia"
   ]
  },
  {
   "cell_type": "markdown",
   "id": "7cdb35be-e13b-4053-ba53-cab99838df64",
   "metadata": {},
   "source": [
    "Some of the popular languages that Data Scientists use are:\n",
    "1. NumPy\n",
    "2. Pandas\n",
    "3. Scikit-Learn\n",
    "4. Matplotlib"
   ]
  },
  {
   "cell_type": "markdown",
   "id": "1b84e971-d761-4b10-97ea-b0edff6e55b9",
   "metadata": {
    "tags": []
   },
   "source": [
    "\n",
    "|  Data Science Tools |\n",
    "| ------------- |\n",
    "| Jupyter Notebooks |\n",
    "| Zeppelin Notebooks |\n",
    "| RStudio |\n",
    "\n"
   ]
  },
  {
   "cell_type": "markdown",
   "id": "eb7c0d3d-c11f-4ae7-93a6-6467b0e548c4",
   "metadata": {
    "tags": []
   },
   "source": [
    "### Below are a few examples of evaluating arithmetic expressions in Python"
   ]
  },
  {
   "cell_type": "markdown",
   "id": "3cf7a4ee-bf79-48ef-8a48-87b374e7790d",
   "metadata": {
    "tags": []
   },
   "source": [
    "This a simple arithmetic expression to mutiply then add integers:"
   ]
  },
  {
   "cell_type": "code",
   "execution_count": 16,
   "id": "d4b50398-c9f6-472b-a05d-4300cd4fbaa5",
   "metadata": {
    "tags": []
   },
   "outputs": [
    {
     "data": {
      "text/plain": [
       "17"
      ]
     },
     "execution_count": 16,
     "metadata": {},
     "output_type": "execute_result"
    }
   ],
   "source": [
    "(3*4)+5"
   ]
  },
  {
   "cell_type": "markdown",
   "id": "556c617c-32e3-4835-a36b-c771392adacb",
   "metadata": {},
   "source": [
    "This will convert 200 minutes to hours by diving by 60:"
   ]
  },
  {
   "cell_type": "code",
   "execution_count": 13,
   "id": "43a5ccac-5089-48fc-8c84-a5ebb27ec684",
   "metadata": {
    "tags": []
   },
   "outputs": [
    {
     "data": {
      "text/plain": [
       "3.3333333333333335"
      ]
     },
     "execution_count": 13,
     "metadata": {},
     "output_type": "execute_result"
    }
   ],
   "source": [
    "(200/60)"
   ]
  },
  {
   "cell_type": "markdown",
   "id": "7406f6de-92e6-4818-a04e-9244e8fdbbe5",
   "metadata": {},
   "source": [
    "## Author"
   ]
  },
  {
   "cell_type": "markdown",
   "id": "c2b192bc-9036-45a6-b378-c1a0e948337f",
   "metadata": {
    "tags": []
   },
   "source": [
    "Tracie Silberberg"
   ]
  },
  {
   "cell_type": "code",
   "execution_count": null,
   "id": "66e4f92f-6504-4982-b7a7-77b8414ad9a3",
   "metadata": {},
   "outputs": [],
   "source": []
  }
 ],
 "metadata": {
  "kernelspec": {
   "display_name": "Python",
   "language": "python",
   "name": "conda-env-python-py"
  },
  "language_info": {
   "codemirror_mode": {
    "name": "ipython",
    "version": 3
   },
   "file_extension": ".py",
   "mimetype": "text/x-python",
   "name": "python",
   "nbconvert_exporter": "python",
   "pygments_lexer": "ipython3",
   "version": "3.7.12"
  }
 },
 "nbformat": 4,
 "nbformat_minor": 5
}
